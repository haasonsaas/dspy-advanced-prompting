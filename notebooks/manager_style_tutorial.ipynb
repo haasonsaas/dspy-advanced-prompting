{
 "cells": [
  {
   "cell_type": "markdown",
   "metadata": {},
   "source": [
    "# Manager-Style Prompting Tutorial\n",
    "\n",
    "This notebook demonstrates how to create hyper-specific prompts structured like detailed onboarding documents for new employees. Manager-style prompts provide comprehensive context, clear expectations, and detailed guidelines.\n",
    "\n",
    "## Why Manager-Style Prompts Work\n",
    "\n",
    "- **Comprehensive Context**: Like onboarding a new hire with complete role understanding\n",
    "- **Clear Expectations**: Define success metrics and performance standards\n",
    "- **Consistent Quality**: Detailed instructions reduce variance in outputs\n",
    "- **Professional Tone**: Creates appropriate communication style automatically"
   ]
  },
  {
   "cell_type": "code",
   "execution_count": null,
   "metadata": {},
   "outputs": [],
   "source": [
    "# Setup and imports\n",
    "import os\n",
    "import sys\n",
    "from dotenv import load_dotenv\n",
    "\n",
    "# Add parent directory to path\n",
    "sys.path.append('..')\n",
    "\n",
    "# Load environment variables\n",
    "load_dotenv()\n",
    "\n",
    "import dspy\n",
    "from src.prompts.manager_style import (\n",
    "    ManagerStylePromptConfig, \n",
    "    ManagerStyleAgent, \n",
    "    create_customer_support_manager,\n",
    "    create_code_review_manager\n",
    ")\n",
    "\n",
    "# Configure DSpy\n",
    "api_key = os.getenv('OPENAI_API_KEY')\n",
    "if not api_key:\n",
    "    print(\"⚠️ Please set OPENAI_API_KEY in your .env file\")\n",
    "else:\n",
    "    lm = dspy.LM(model=\"gpt-4o-mini\", api_key=api_key, max_tokens=2000)\n",
    "    dspy.settings.configure(lm=lm)\n",
    "    print(\"✅ DSpy configured with OpenAI\")"
   ]
  },
  {
   "cell_type": "markdown",
   "metadata": {},
   "source": [
    "## Example 1: Customer Support Manager\n",
    "\n",
    "Let's start with a pre-built customer support manager that has detailed instructions for handling customer issues with empathy and professionalism."
   ]
  },
  {
   "cell_type": "code",
   "execution_count": null,
   "metadata": {},
   "outputs": [],
   "source": [
    "# Create a customer support manager\n",
    "support_manager = create_customer_support_manager()\n",
    "\n",
    "# Test with a challenging customer scenario\n",
    "task = \"Handle a customer complaint about billing error\"\n",
    "context = \"Customer was charged twice for the same service. They're frustrated and considering canceling their subscription.\"\n",
    "\n",
    "print(\"🎯 Task:\", task)\n",
    "print(\"📋 Context:\", context)\n",
    "print(\"\\n\" + \"=\"*50)\n",
    "\n",
    "response = support_manager(task=task, context=context)\n",
    "print(\"\\n📝 Manager Response:\")\n",
    "print(response)"
   ]
  },
  {
   "cell_type": "markdown",
   "metadata": {},
   "source": [
    "## Example 2: Code Review Manager\n",
    "\n",
    "Now let's see how a code review manager handles security issues with detailed technical guidance."
   ]
  },
  {
   "cell_type": "code",
   "execution_count": null,
   "metadata": {},
   "outputs": [],
   "source": [
    "# Create a code review manager\n",
    "code_manager = create_code_review_manager()\n",
    "\n",
    "# Test with a security vulnerability\n",
    "task = \"Review this database query for security issues\"\n",
    "context = 'Production API endpoint: cursor.execute(f\"SELECT * FROM users WHERE email={email}\")'\n",
    "\n",
    "print(\"🎯 Task:\", task)\n",
    "print(\"📋 Context:\", context)\n",
    "print(\"\\n\" + \"=\"*50)\n",
    "\n",
    "response = code_manager(task=task, context=context)\n",
    "print(\"\\n📝 Code Review:\")\n",
    "print(response)"
   ]
  },
  {
   "cell_type": "markdown",
   "metadata": {},
   "source": [
    "## Creating Custom Manager-Style Prompts\n",
    "\n",
    "Let's build a custom manager for a Data Analyst role to show how to create domain-specific prompts."
   ]
  },
  {
   "cell_type": "code",
   "execution_count": null,
   "metadata": {},
   "outputs": [],
   "source": [
    "# Create a custom Data Analyst manager\n",
    "data_analyst_config = ManagerStylePromptConfig(\n",
    "    role_title=\"Senior Data Analyst\",\n",
    "    department=\"Business Intelligence\",\n",
    "    company_context=\"We're a fast-growing SaaS company that relies on data-driven decisions. Our analytics drive product development, marketing strategies, and operational improvements.\",\n",
    "    reporting_structure=\"Director of Data Science\",\n",
    "    key_responsibilities=[\n",
    "        \"Analyze user behavior patterns and identify growth opportunities\",\n",
    "        \"Create actionable insights from complex datasets\", \n",
    "        \"Build and maintain automated reporting dashboards\",\n",
    "        \"Collaborate with product and marketing teams on A/B tests\",\n",
    "        \"Present findings to stakeholders with clear recommendations\"\n",
    "    ],\n",
    "    performance_metrics=[\n",
    "        \"Analysis accuracy and statistical rigor\",\n",
    "        \"Time to insight: < 48 hours for standard requests\",\n",
    "        \"Stakeholder satisfaction with reports > 4.5/5\",\n",
    "        \"Number of actionable recommendations implemented\",\n",
    "        \"Dashboard uptime and data freshness > 99%\"\n",
    "    ],\n",
    "    tools_and_resources=[\n",
    "        \"SQL databases (PostgreSQL, BigQuery)\",\n",
    "        \"Python/R for statistical analysis\",\n",
    "        \"Tableau/Looker for visualization\",\n",
    "        \"A/B testing platforms\",\n",
    "        \"Statistical analysis libraries\"\n",
    "    ],\n",
    "    communication_style=\"Data-driven, clear, and actionable. Always include confidence intervals and limitations. Use visualizations to support key points.\",\n",
    "    decision_authority=\"Can recommend product changes, approve A/B test designs, and prioritize analytics requests. Escalate budget decisions over $10k.\",\n",
    "    escalation_procedures=\"Escalate to Director for: conflicting stakeholder priorities, resource constraints affecting delivery, or findings that impact company strategy.\",\n",
    "    constraints=[\n",
    "        \"Must follow data privacy regulations (GDPR, CCPA)\",\n",
    "        \"Cannot access personally identifiable information directly\",\n",
    "        \"Statistical significance threshold of p < 0.05 required\",\n",
    "        \"All analysis must be reproducible and documented\"\n",
    "    ],\n",
    "    examples_of_excellence=[\n",
    "        {\n",
    "            \"title\": \"User Retention Analysis\",\n",
    "            \"situation\": \"Product team needed to understand why user retention dropped 15%\",\n",
    "            \"action\": \"Performed cohort analysis, identified key drop-off points, and recommended feature improvements\",\n",
    "            \"result\": \"Retention improved by 23% after implementing recommendations\",\n",
    "            \"takeaway\": \"Deep-dive analysis with actionable recommendations drives real business impact\"\n",
    "        }\n",
    "    ]\n",
    ")\n",
    "\n",
    "# Create the data analyst agent\n",
    "data_analyst = ManagerStyleAgent(data_analyst_config)\n",
    "\n",
    "print(\"✅ Custom Data Analyst manager created!\")"
   ]
  },
  {
   "cell_type": "markdown",
   "metadata": {},
   "source": [
    "### Testing the Custom Data Analyst"
   ]
  },
  {
   "cell_type": "code",
   "execution_count": null,
   "metadata": {},
   "outputs": [],
   "source": [
    "# Test the custom data analyst with a business problem\n",
    "task = \"Analyze declining conversion rates in our signup funnel\"\n",
    "context = \"Conversion rates dropped from 12% to 8% over the last month. Marketing team suspects it's related to recent website changes.\"\n",
    "\n",
    "print(\"🎯 Task:\", task)\n",
    "print(\"📋 Context:\", context)\n",
    "print(\"\\n\" + \"=\"*50)\n",
    "\n",
    "analysis = data_analyst(task=task, context=context)\n",
    "print(\"\\n📊 Data Analysis:\")\n",
    "print(analysis)"
   ]
  },
  {
   "cell_type": "markdown",
   "metadata": {},
   "source": [
    "## Comparing Simple vs Manager-Style Prompts\n",
    "\n",
    "Let's see the difference between a simple prompt and a manager-style prompt for the same task."
   ]
  },
  {
   "cell_type": "code",
   "execution_count": null,
   "metadata": {},
   "outputs": [],
   "source": [
    "# Simple prompt approach\n",
    "class SimplePrompt(dspy.Signature):\n",
    "    \"\"\"Answer customer support question\"\"\"\n",
    "    question = dspy.InputField()\n",
    "    answer = dspy.OutputField()\n",
    "\n",
    "simple_agent = dspy.ChainOfThought(SimplePrompt)\n",
    "\n",
    "# Test scenario\n",
    "customer_issue = \"Customer says their data was deleted and they want a refund\"\n",
    "\n",
    "print(\"🔄 Comparing Simple vs Manager-Style Prompts\")\n",
    "print(\"\\n📝 Customer Issue:\", customer_issue)\n",
    "print(\"\\n\" + \"=\"*70)\n",
    "\n",
    "# Simple prompt response\n",
    "simple_response = simple_agent(question=customer_issue)\n",
    "print(\"\\n📤 Simple Prompt Response:\")\n",
    "print(\"-\" * 30)\n",
    "print(simple_response.answer)\n",
    "\n",
    "# Manager-style response\n",
    "manager_response = support_manager(task=\"Handle customer data loss complaint\", context=customer_issue)\n",
    "print(\"\\n\\n👔 Manager-Style Response:\")\n",
    "print(\"-\" * 30)\n",
    "print(manager_response)"
   ]
  },
  {
   "cell_type": "markdown",
   "metadata": {},
   "source": [
    "## Key Differences Analysis\n",
    "\n",
    "Notice how the manager-style prompt typically provides:\n",
    "\n",
    "1. **Structure**: Professional email format vs casual response\n",
    "2. **Empathy**: Acknowledges customer frustration explicitly\n",
    "3. **Process**: Clear next steps and escalation procedures\n",
    "4. **Authority**: Demonstrates decision-making capability\n",
    "5. **Consistency**: Maintains brand voice and professional standards\n",
    "\n",
    "## Best Practices for Manager-Style Prompts\n",
    "\n",
    "1. **Define Clear Roles**: Specify exact title and department\n",
    "2. **Set Performance Metrics**: Include measurable success criteria\n",
    "3. **Provide Examples**: Show what excellence looks like\n",
    "4. **Establish Constraints**: Define limitations and escalation points\n",
    "5. **Include Context**: Company background and organizational structure"
   ]
  },
  {
   "cell_type": "markdown",
   "metadata": {},
   "source": [
    "## Exercise: Create Your Own Manager\n",
    "\n",
    "Try creating a manager-style prompt for your own use case. Consider roles like:\n",
    "- Technical Writer\n",
    "- Sales Representative \n",
    "- Product Manager\n",
    "- HR Specialist\n",
    "- Marketing Analyst"
   ]
  },
  {
   "cell_type": "code",
   "execution_count": null,
   "metadata": {},
   "outputs": [],
   "source": [
    "# Your turn! Create a custom manager for your domain\n",
    "# Uncomment and modify the template below:\n",
    "\n",
    "# your_config = ManagerStylePromptConfig(\n",
    "#     role_title=\"Your Role Here\",\n",
    "#     department=\"Your Department\",\n",
    "#     company_context=\"Your company context...\",\n",
    "#     reporting_structure=\"Reports to...\",\n",
    "#     key_responsibilities=[\n",
    "#         \"Responsibility 1\",\n",
    "#         \"Responsibility 2\",\n",
    "#         # Add more...\n",
    "#     ],\n",
    "#     performance_metrics=[\n",
    "#         \"Metric 1\",\n",
    "#         \"Metric 2\", \n",
    "#         # Add more...\n",
    "#     ],\n",
    "#     tools_and_resources=[\n",
    "#         \"Tool 1\",\n",
    "#         \"Tool 2\",\n",
    "#         # Add more...\n",
    "#     ],\n",
    "#     communication_style=\"Your communication style...\",\n",
    "#     decision_authority=\"Your decision authority...\",\n",
    "#     escalation_procedures=\"When to escalate...\",\n",
    "#     constraints=[\n",
    "#         \"Constraint 1\",\n",
    "#         \"Constraint 2\",\n",
    "#         # Add more...\n",
    "#     ],\n",
    "#     examples_of_excellence=[\n",
    "#         {\n",
    "#             \"title\": \"Example Success\",\n",
    "#             \"situation\": \"The situation...\",\n",
    "#             \"action\": \"What was done...\",\n",
    "#             \"result\": \"The outcome...\",\n",
    "#             \"takeaway\": \"Key lesson...\"\n",
    "#         }\n",
    "#     ]\n",
    "# )\n",
    "\n",
    "# your_manager = ManagerStyleAgent(your_config)\n",
    "# result = your_manager(task=\"Your test task\", context=\"Your context\")\n",
    "# print(result)\n",
    "\n",
    "print(\"💡 Modify the code above to create your own manager-style prompt!\")"
   ]
  }
 ],
 "metadata": {
  "kernelspec": {
   "display_name": "Python 3",
   "language": "python",
   "name": "python3"
  },
  "language_info": {
   "codemirror_mode": {
    "name": "ipython",
    "version": 3
   },
   "file_extension": ".py",
   "mimetype": "text/x-python",
   "name": "python",
   "nbconvert_exporter": "python",
   "pygments_lexer": "ipython3",
   "version": "3.8.0"
  }
 },
 "nbformat": 4,
 "nbformat_minor": 4
}